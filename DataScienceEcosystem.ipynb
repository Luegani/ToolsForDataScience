{
 "cells": [
  {
   "cell_type": "markdown",
   "id": "d8b1140d-8cb4-4c9c-8f3f-743898d411da",
   "metadata": {},
   "source": [
    "# Data Science Tools and Ecosystem"
   ]
  },
  {
   "cell_type": "markdown",
   "id": "f3dd3015-097e-4199-bb1c-dfd88885a45a",
   "metadata": {},
   "source": [
    "This notebook provides an overview of Data Science Tools and Ecosystem."
   ]
  },
  {
   "cell_type": "markdown",
   "id": "15c21057-07b7-4fd1-bc51-296f78e0e879",
   "metadata": {},
   "source": [
    "**Objectives:**\n",
    "* List popular languages for Data Science\n",
    "* List frequently used libraries used by Data Scientist\n",
    "* List some development environment open source tools used in data science\n",
    "* Analyze examples of arithmetic expressions in a code cell"
   ]
  },
  {
   "cell_type": "markdown",
   "id": "5c9006b0-7813-4e30-91a3-9c854ca16693",
   "metadata": {},
   "source": [
    "Several widely used languages by Data Scientists include:\n",
    "1. Python\n",
    "2. R\n",
    "3. SQL\n",
    "4. Java\n",
    "5. Scala\n",
    "6. C++\n",
    "7. JavaScript\n",
    "8. Julia"
   ]
  },
  {
   "cell_type": "markdown",
   "id": "6d74fb19-6a9c-4f1a-b838-eea9e223ce35",
   "metadata": {},
   "source": [
    "Some frequently used libraries by Data Scientists include:\n",
    "1. Pandas \n",
    "2. Numpy \n",
    "3. Matplotlib \n",
    "4. Seaborn \n",
    "5. Scikit-learn \n",
    "6. Keras \n",
    "7. TensorFlow \n",
    "8. PyTorch \n",
    "10. Vegas\n",
    "11. BigDL\n",
    "12. ggplot2"
   ]
  },
  {
   "cell_type": "markdown",
   "id": "c616374d-dd0a-47fb-9937-eebef25679e7",
   "metadata": {},
   "source": [
    "| Data Science Tools | \n",
    "| ----- |\n",
    "| Jupyter | \n",
    "| RStudio |\n",
    "| Spyder | "
   ]
  },
  {
   "cell_type": "markdown",
   "id": "7fb8308d-9b58-4303-85f6-f12e6a3cae5d",
   "metadata": {},
   "source": [
    "### Here are some examples of evaluating arithmetic expressions in Python."
   ]
  },
  {
   "cell_type": "code",
   "execution_count": 1,
   "id": "87f2a6b5-89e8-4859-94ff-54920e5e907d",
   "metadata": {},
   "outputs": [
    {
     "data": {
      "text/plain": [
       "17"
      ]
     },
     "execution_count": 1,
     "metadata": {},
     "output_type": "execute_result"
    }
   ],
   "source": [
    "# This is a simple arithmetic expression to multiply, then add integers\n",
    "(3*4)+5"
   ]
  },
  {
   "cell_type": "code",
   "execution_count": 2,
   "id": "2e7b265f-ccb9-4446-a131-64c2bf8cd611",
   "metadata": {},
   "outputs": [
    {
     "name": "stdout",
     "output_type": "stream",
     "text": [
      "3.3333333333333335\n"
     ]
    }
   ],
   "source": [
    "# This will convert 200 minutes to hours by dividing by 60\n",
    "minutes = 200\n",
    "hours = minutes / 60\n",
    "print(hours)"
   ]
  },
  {
   "cell_type": "markdown",
   "id": "2a084021-c45f-4a74-a0c3-1737e6cd4da8",
   "metadata": {},
   "source": [
    "## Author\n",
    "Lucia Garcia"
   ]
  },
  {
   "cell_type": "code",
   "execution_count": null,
   "id": "39c67536-f7b0-4a85-8726-b0962aaa1403",
   "metadata": {},
   "outputs": [],
   "source": []
  }
 ],
 "metadata": {
  "kernelspec": {
   "display_name": "Python 3 (ipykernel)",
   "language": "python",
   "name": "python3"
  },
  "language_info": {
   "codemirror_mode": {
    "name": "ipython",
    "version": 3
   },
   "file_extension": ".py",
   "mimetype": "text/x-python",
   "name": "python",
   "nbconvert_exporter": "python",
   "pygments_lexer": "ipython3",
   "version": "3.12.8"
  }
 },
 "nbformat": 4,
 "nbformat_minor": 5
}
